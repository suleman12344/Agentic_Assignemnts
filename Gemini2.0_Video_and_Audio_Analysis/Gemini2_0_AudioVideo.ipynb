{
  "nbformat": 4,
  "nbformat_minor": 0,
  "metadata": {
    "colab": {
      "provenance": [],
      "mount_file_id": "17YLJSvcbsLO4mtJWiVnM4x0hUXYCeqaK",
      "authorship_tag": "ABX9TyOuWTEwjT7rE6vA62/b4jli",
      "include_colab_link": true
    },
    "kernelspec": {
      "name": "python3",
      "display_name": "Python 3"
    },
    "language_info": {
      "name": "python"
    }
  },
  "cells": [
    {
      "cell_type": "markdown",
      "metadata": {
        "id": "view-in-github",
        "colab_type": "text"
      },
      "source": [
        "<a href=\"https://colab.research.google.com/github/suleman12344/Agentic_Assignemnts/blob/main/Gemini2.0_Video_and_Audio_Analysis/Gemini2_0_AudioVideo.ipynb\" target=\"_parent\"><img src=\"https://colab.research.google.com/assets/colab-badge.svg\" alt=\"Open In Colab\"/></a>"
      ]
    },
    {
      "cell_type": "markdown",
      "source": [
        "# Gemini 2.0 Video and Audio Analysis"
      ],
      "metadata": {
        "id": "57aPEojv_HCS"
      }
    },
    {
      "cell_type": "code",
      "source": [
        "!pip install --upgrade --quiet google-generativeai"
      ],
      "metadata": {
        "id": "LomowrXgvtQi"
      },
      "execution_count": 5,
      "outputs": []
    },
    {
      "cell_type": "markdown",
      "source": [
        "fetching the api using userdata"
      ],
      "metadata": {
        "id": "j57eXXb__Qtr"
      }
    },
    {
      "cell_type": "code",
      "source": [
        "from google.colab import userdata\n",
        "GOOGLE_API_KEY:str = userdata.get('GOOGLE_API_KEY')\n",
        "if GOOGLE_API_KEY:\n",
        "  print(\"api key found\")\n",
        "else:\n",
        "  print(\"api key not found\")"
      ],
      "metadata": {
        "colab": {
          "base_uri": "https://localhost:8080/"
        },
        "id": "K8j0F40zwyF5",
        "outputId": "c422395f-493d-435c-cd89-e51864654f04"
      },
      "execution_count": 8,
      "outputs": [
        {
          "output_type": "stream",
          "name": "stdout",
          "text": [
            "api key found\n"
          ]
        }
      ]
    },
    {
      "cell_type": "code",
      "source": [
        "from google import genai\n",
        "from google.genai import Client\n",
        "client:Client = genai.Client(api_key = GOOGLE_API_KEY)\n",
        "model:str = 'gemini-2.0-flash-exp'"
      ],
      "metadata": {
        "id": "TXAaviUVxN9T"
      },
      "execution_count": 9,
      "outputs": []
    },
    {
      "cell_type": "markdown",
      "source": [
        "uploaded the video on the drive and mount colab with my drive"
      ],
      "metadata": {
        "id": "G8lFdTV__WBb"
      }
    },
    {
      "cell_type": "code",
      "source": [
        "video_path = '/content/drive/MyDrive/20240403_133017.mp4'"
      ],
      "metadata": {
        "id": "FiuVTnv8z1S5"
      },
      "execution_count": 29,
      "outputs": []
    },
    {
      "cell_type": "code",
      "source": [
        "import os\n",
        "if os.path.exists(video_path):\n",
        "  print(\"video found\")\n",
        "else:\n",
        "  print(\"video not found\")"
      ],
      "metadata": {
        "colab": {
          "base_uri": "https://localhost:8080/"
        },
        "id": "2Pblmojk7H-k",
        "outputId": "216c4b21-d46f-462b-d0a7-f4380ada5084"
      },
      "execution_count": 30,
      "outputs": [
        {
          "output_type": "stream",
          "name": "stdout",
          "text": [
            "video found\n"
          ]
        }
      ]
    },
    {
      "cell_type": "code",
      "source": [
        "import time\n",
        "\n",
        "def upload_video(video_file_name):\n",
        "  video_file = client.files.upload(path=video_file_name)\n",
        "  while video_file.state == \"PROCESSING\":\n",
        "      print('Waiting for video to be processed.')\n",
        "      time.sleep(10)\n",
        "      video_file = client.files.get(name=video_file.name or \"\")\n",
        "\n",
        "  if video_file.state == \"FAILED\":\n",
        "    raise ValueError(video_file.state)\n",
        "  print(f'Video processing complete: ' + (video_file.uri or \"\"))\n",
        "\n",
        "  return video_file\n",
        "\n",
        "intro_video = upload_video(video_path)"
      ],
      "metadata": {
        "colab": {
          "base_uri": "https://localhost:8080/"
        },
        "id": "JJlGQ8t_7Xin",
        "outputId": "77b3d300-e8f0-45fd-eab6-a750f9dbfe3d"
      },
      "execution_count": 31,
      "outputs": [
        {
          "output_type": "stream",
          "name": "stdout",
          "text": [
            "Waiting for video to be processed.\n",
            "Video processing complete: https://generativelanguage.googleapis.com/v1beta/files/rafkxcstccmq\n"
          ]
        }
      ]
    },
    {
      "cell_type": "code",
      "source": [
        "from google.genai.types import Content, Part\n",
        "prompt = \"\"\"For each scene in this video,\n",
        "            generate what the person are saying in a video in markdown formate dont include timecode.\n",
        "            and at the end conclude what he/she is saying.\n",
        "         \"\"\"\n",
        "\n",
        "video = intro_video"
      ],
      "metadata": {
        "id": "LvRysHub7z6p"
      },
      "execution_count": 34,
      "outputs": []
    },
    {
      "cell_type": "code",
      "source": [
        "from IPython.display import Markdown\n",
        "response = client.models.generate_content(\n",
        "    model=model,\n",
        "    contents=[\n",
        "        Content(\n",
        "            role=\"user\",\n",
        "            parts=[\n",
        "                Part.from_uri(\n",
        "                    file_uri=video.uri or \"\",\n",
        "                    mime_type=video.mime_type or \"\"),\n",
        "                ]),\n",
        "        prompt,\n",
        "    ]\n",
        ")\n",
        "\n",
        "Markdown(response.text)"
      ],
      "metadata": {
        "colab": {
          "base_uri": "https://localhost:8080/",
          "height": 518
        },
        "id": "7PcfQibT9aOB",
        "outputId": "b3ea9a49-8a7d-453b-8e55-56d390aa6a4a"
      },
      "execution_count": 36,
      "outputs": [
        {
          "output_type": "execute_result",
          "data": {
            "text/plain": [
              "<IPython.core.display.Markdown object>"
            ],
            "text/markdown": "Okay, here is the transcript of what the person is saying in the video in markdown format, without timecodes, followed by a conclusion:\n\n---\nAssalam-o-Alaikum, my name is Mohammad Suleman, and I'm 21 years old and I'm doing computer science engineering at University of Central Punjab. In this video, I will discuss about the strengths and the weaknesses with you guys and at the end of this video, I will share some of my strengths and weaknesses.\n\nSo let's start with the topic so what is the strength? Strength is basically the strongest point of your personality. It could be any skill, it could be any talent, it could be anything that makes your personality looks strong and appealing and what is the weaknesses? Weaknesses is the blind spot of your personality and poorly developed skills and in my opinion I think lack of confidence is the main one because if you cannot present your work properly if you cannot present your skill properly, you cannot succeed in your life.\n\nSo and this this this question is a common question in a job interview what is you should know about your weaknesses and strengths. So in a class we do an activity in which we just have to mark some of strengths and some of the weaknesses of ourself. So my first strength is I can easily defend any kind of criticism that throw on me. So I really don't care about it. Second one I really like to do an art because I'm a creative person, I really like to do an art. And third one is I really don't care about what the people think about me and what the people talk behind me. So I really don't care about it.\n\nWhat is the weaknesses? My weakness is the first one is I avoid to ask questions in a in a class I guess because of the lack of confidence maybe and the second one is that I'm a little bit harsh upon myself self judgment is little bit harsh. And thank you so much for the watching this video and Allah Hafiz.\n\n---\n**Conclusion:**\n\nThe person in the video is introducing themselves, and discussing the concepts of strengths and weaknesses, especially as they relate to job interviews. He shares what he considers to be some of his strengths, including being able to defend against criticism, liking art, and not caring what others think of him. Additionally, he also details his weaknesses: not asking questions in class and being harshly self-critical. He ends the video by thanking the viewers and concluding with Allah Hafiz.\n"
          },
          "metadata": {},
          "execution_count": 36
        }
      ]
    },
    {
      "cell_type": "code",
      "source": [],
      "metadata": {
        "id": "JbcH0Iyz9cZp"
      },
      "execution_count": 35,
      "outputs": []
    }
  ]
}