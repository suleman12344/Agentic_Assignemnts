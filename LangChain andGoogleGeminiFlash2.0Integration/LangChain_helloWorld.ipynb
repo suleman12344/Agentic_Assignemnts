{
  "nbformat": 4,
  "nbformat_minor": 0,
  "metadata": {
    "colab": {
      "provenance": [],
      "authorship_tag": "ABX9TyPEO1i22xOvR3ncpjuSQCjQ",
      "include_colab_link": true
    },
    "kernelspec": {
      "name": "python3",
      "display_name": "Python 3"
    },
    "language_info": {
      "name": "python"
    }
  },
  "cells": [
    {
      "cell_type": "markdown",
      "metadata": {
        "id": "view-in-github",
        "colab_type": "text"
      },
      "source": [
        "<a href=\"https://colab.research.google.com/github/suleman12344/Agentic_Assignemnts/blob/main/LangChain%20andGoogleGeminiFlash2.0Integration/LangChain_helloWorld.ipynb\" target=\"_parent\"><img src=\"https://colab.research.google.com/assets/colab-badge.svg\" alt=\"Open In Colab\"/></a>"
      ]
    },
    {
      "cell_type": "code",
      "execution_count": 40,
      "metadata": {
        "id": "pWxsTYlzSAK6"
      },
      "outputs": [],
      "source": [
        "!pip install --upgrade --quiet langchain\n",
        "!pip install --upgrade --quiet langchain-community\n",
        "!pip install --upgrade --quiet  google-generativeai\n",
        "!pip install markdown --upgrade --quiet"
      ]
    },
    {
      "cell_type": "code",
      "source": [
        "from google.colab import userdata\n",
        "GOOGLE_API_KEY:str = userdata.get('GOOGLE_API_KEY')\n",
        "if GOOGLE_API_KEY:\n",
        "  print(\"key found\")\n",
        "else:\n",
        "  print(\"key not found\")"
      ],
      "metadata": {
        "colab": {
          "base_uri": "https://localhost:8080/"
        },
        "id": "3moK4wl2s8JW",
        "outputId": "fe90d8fd-0f52-4f30-f722-24669e627bf6"
      },
      "execution_count": 41,
      "outputs": [
        {
          "output_type": "stream",
          "name": "stdout",
          "text": [
            "key found\n"
          ]
        }
      ]
    },
    {
      "cell_type": "code",
      "source": [
        "from google import genai\n",
        "from google.genai.client import Client\n",
        "client:Client = genai.Client(api_key=GOOGLE_API_KEY)"
      ],
      "metadata": {
        "id": "7Xs2x3srtXoP"
      },
      "execution_count": 42,
      "outputs": []
    },
    {
      "cell_type": "code",
      "source": [
        "from langchain_google_genai import ChatGoogleGenerativeAI\n",
        "\n",
        "llm = ChatGoogleGenerativeAI(\n",
        "    model=\"gemini-2.0-flash-exp\",\n",
        "    api_key=GOOGLE_API_KEY)"
      ],
      "metadata": {
        "id": "HfG0CpVStoDz"
      },
      "execution_count": 43,
      "outputs": []
    },
    {
      "cell_type": "code",
      "source": [
        "print(llm)"
      ],
      "metadata": {
        "colab": {
          "base_uri": "https://localhost:8080/"
        },
        "id": "gRdBBOK1t5CH",
        "outputId": "e93ba5a6-2923-4e7d-f842-3fea6038b332"
      },
      "execution_count": 44,
      "outputs": [
        {
          "output_type": "stream",
          "name": "stdout",
          "text": [
            "model='models/gemini-2.0-flash-exp' google_api_key=SecretStr('**********') client=<google.ai.generativelanguage_v1beta.services.generative_service.client.GenerativeServiceClient object at 0x7f20c19ca440> default_metadata=()\n"
          ]
        }
      ]
    },
    {
      "cell_type": "code",
      "source": [
        "from langchain.prompts import PromptTemplate\n",
        "from langchain.chains import LLMChain\n",
        "\n",
        "# Create a prompt template\n",
        "prompt_template = PromptTemplate(\n",
        "    input_variables=[\"question\"],\n",
        "    template=\"You are a helpful assistant. Answer the following question:\\n\\n{question}\"\n",
        ")"
      ],
      "metadata": {
        "id": "GfJIxLNOywO3"
      },
      "execution_count": 45,
      "outputs": []
    },
    {
      "cell_type": "code",
      "source": [
        "# Create the LLM chain\n",
        "chain = LLMChain(llm=llm, prompt=prompt_template)"
      ],
      "metadata": {
        "id": "IKvApWXSy8RT"
      },
      "execution_count": 57,
      "outputs": []
    },
    {
      "cell_type": "code",
      "source": [
        "from IPython.display import Markdown\n",
        "question1 = \"What is LangChain?\"\n",
        "question2 = \"What is Google GenAI?\"\n",
        "question3 = \"Which is better Gemini or chatgpt?\"\n",
        "response = chain.run({\"question\": question1})\n",
        "Markdown(f\"Answer of Question1: {response}\")"
      ],
      "metadata": {
        "colab": {
          "base_uri": "https://localhost:8080/",
          "height": 604
        },
        "id": "DZ1vV-vVzD-0",
        "outputId": "96cc1a5b-bf76-4aed-8f2f-63005f293870"
      },
      "execution_count": 58,
      "outputs": [
        {
          "output_type": "execute_result",
          "data": {
            "text/plain": [
              "<IPython.core.display.Markdown object>"
            ],
            "text/markdown": "Answer of Question1: LangChain is a framework designed to simplify the development of applications powered by large language models (LLMs). Think of it as a toolkit that provides building blocks and abstractions to make it easier to:\n\n**Key aspects of LangChain:**\n\n* **Chain Together LLM Calls:** LangChain excels at creating sequences of calls to LLMs or other tools. Instead of just sending one prompt and getting one answer, you can create complex workflows. This allows you to build applications that can reason, plan, and take actions based on previous outputs.\n* **Data-Aware Applications:** It integrates seamlessly with various data sources. You can connect your LLM to databases, APIs, documents, and more, allowing it to access and process relevant information. This empowers your applications to generate context-aware and grounded responses.\n* **Component-Based Architecture:** LangChain offers a modular and flexible architecture. It provides pre-built components (like prompts, models, indexes, chains, and agents) that you can easily combine and customize to fit your specific needs.\n* **Abstraction and Standardization:** It abstracts away the complexities of interacting with different LLMs and data sources. This allows developers to focus on application logic rather than wrestling with low-level details.\n* **Rapid Prototyping and Experimentation:** The framework facilitates quick prototyping and experimentation with different approaches. You can easily swap out components, try different prompts, and evaluate the results.\n* **Community and Ecosystem:** LangChain has a vibrant and active community contributing to its growth and providing support. This means you have access to a wealth of resources, examples, and potential solutions.\n\n**In summary, LangChain is like a \"glue\" that binds together:**\n\n* **Large Language Models (LLMs):** Like GPT-3, Bard, and others.\n* **Data Sources:** Like databases, APIs, and documents.\n* **Tools and Utilities:** For tasks like search, calculations, and planning.\n\n**What can you build with LangChain?**\n\nHere are some examples of applications you can build with LangChain:\n\n* **Question Answering Systems:** That can answer questions based on specific documents or data sources.\n* **Chatbots:** That can engage in conversational interactions with users.\n* **Text Summarization Tools:** That can condense large amounts of text into concise summaries.\n* **Code Generation Tools:** That can generate code snippets based on natural language descriptions.\n* **Personalized Assistants:** That can help users with various tasks and activities.\n* **Autonomous Agents:** That can plan and execute complex tasks with minimal human intervention.\n\n**Think of it like Lego bricks for AI applications. LangChain provides the building blocks, and you can use them to create a wide range of intelligent solutions.**\n\nEssentially, LangChain helps you leverage the power of LLMs to create more sophisticated and useful AI applications by simplifying the process of connecting them to the real world.\n"
          },
          "metadata": {},
          "execution_count": 58
        }
      ]
    },
    {
      "cell_type": "code",
      "source": [
        "\n",
        "response = chain.run({\"question\": question2})\n",
        "Markdown(f\"Answer of Question2: {response}\")\n"
      ],
      "metadata": {
        "colab": {
          "base_uri": "https://localhost:8080/",
          "height": 453
        },
        "id": "tcxGXBZDzGyF",
        "outputId": "2cca0510-af98-4237-e7ef-232e4e283873"
      },
      "execution_count": 75,
      "outputs": [
        {
          "output_type": "execute_result",
          "data": {
            "text/plain": [
              "<IPython.core.display.Markdown object>"
            ],
            "text/markdown": "Answer of Question2: Google GenAI refers to Google's suite of **Generative Artificial Intelligence** models and tools. It's not a single product, but rather an umbrella term encompassing various AI technologies that can create new content, including text, images, code, music, and more.\n\nHere's a breakdown of what that means:\n\n* **Generative AI:** This is the core concept. It's a type of artificial intelligence that learns from existing data and then uses that knowledge to generate new, original content that resembles the data it was trained on.\n* **Google's Implementation:** Google is heavily invested in generative AI and has developed a range of models and tools that fall under the \"GenAI\" umbrella. These include:\n    * **Large Language Models (LLMs):** Models like **Bard (now Gemini)**, **LaMDA**, and others that are capable of understanding and generating human-like text, translating languages, writing different kinds of creative content, and more.\n    * **Image Generation Models:** Models like **Imagen** that can create realistic and artistic images from text prompts.\n    * **Code Generation Models:** Models that can generate code in various programming languages based on descriptions or specifications.\n    * **Tools and APIs:** Google provides various tools and APIs that allow developers and users to access and integrate these generative AI capabilities into their own applications and workflows.\n\n**Key Characteristics of Google GenAI:**\n\n* **Versatility:** Can generate various types of content.\n* **Innovation:** Enables the creation of new and original content.\n* **Accessibility:** Google is making these tools and models increasingly accessible through various platforms and APIs.\n* **Continuous Development:** Google is constantly researching and developing new and improved generative AI models.\n\n**In Summary:**\n\nGoogle GenAI is not a specific product, but rather a collection of powerful generative AI models and tools developed by Google. These tools are capable of creating new text, images, code, and other forms of content, and they are being used in a wide range of applications, from creative writing to software development. It's a dynamic and rapidly evolving field, and Google is a major player in its development.\n"
          },
          "metadata": {},
          "execution_count": 75
        }
      ]
    },
    {
      "cell_type": "code",
      "source": [
        "response = chain.run({\"question\": question3})\n",
        "Markdown(f\"Answer of Question3: {response}\")"
      ],
      "metadata": {
        "colab": {
          "base_uri": "https://localhost:8080/",
          "height": 802
        },
        "id": "9K9IJftI1oxP",
        "outputId": "07cb9b81-ca9e-4cec-931d-27aecdbea4ac"
      },
      "execution_count": 55,
      "outputs": [
        {
          "output_type": "execute_result",
          "data": {
            "text/plain": [
              "<IPython.core.display.Markdown object>"
            ],
            "text/markdown": "Answer of Question3: That's a great question, and it's one a lot of people are asking! The truth is, there's no single \"better\" model between Gemini (formerly Bard) and ChatGPT. They both have their strengths and weaknesses, and which one is \"better\" really depends on what you're trying to do.\n\nHere's a breakdown to help you decide which might be a better fit for *your* needs:\n\n**ChatGPT (Specifically, GPT-3.5 or GPT-4)**\n\n* **Strengths:**\n    * **Stronger at creative writing and storytelling:** ChatGPT excels at generating different creative text formats, like poems, code, scripts, musical pieces, email, letters, etc. It can often produce more imaginative and nuanced outputs.\n    * **Better at maintaining context in long conversations:** It generally remembers previous turns in a conversation more accurately.\n    * **More widely used and integrated:** ChatGPT has been around longer and has wider adoption, meaning you'll find more integrations and tools built around it.\n    * **More accessible (depending on version):** The free version (GPT-3.5) is widely available, while access to the more powerful GPT-4 often requires a subscription.\n* **Weaknesses:**\n    * **Can sometimes be less factually accurate:** While it's improved, it can still sometimes \"hallucinate\" information or provide inaccurate details.\n    * **May have a more formal tone:** Can sometimes feel a bit robotic or less conversational than Gemini.\n    * **Limited real-time information:** The free version is trained on data up to a certain point and doesn't have access to the latest information.\n\n**Gemini (Formerly Bard)**\n\n* **Strengths:**\n    * **Better at accessing and processing real-time information:** Gemini is directly connected to the internet, allowing it to provide more up-to-date and relevant answers.\n    * **Often provides more concise and direct answers:** It tends to be less verbose than ChatGPT and gets to the point faster.\n    * **Good at summarizing information:** Can quickly extract key points from large amounts of text.\n    * **More conversational and natural tone:** Often feels more like talking to a real person.\n    * **Stronger integration with Google services:** Seamlessly connects to Google Search, Maps, Gmail, etc.\n* **Weaknesses:**\n    * **Can sometimes struggle with complex creative tasks:** May not be as imaginative or nuanced in creative writing.\n    * **Can be less consistent in maintaining context:** May sometimes lose track of the conversation in longer exchanges.\n    * **Still relatively new and evolving:** It's still under development, so some features might be less polished than ChatGPT.\n\n**Here's a simple guide based on common use cases:**\n\n* **For Creative Writing (Stories, Poems, Scripts):** **ChatGPT** (especially GPT-4 if you have access)\n* **For Research and Information Gathering:** **Gemini** (due to its access to the internet)\n* **For Summarization and Concise Answers:** **Gemini**\n* **For Conversational Interaction:** **Gemini** (for a more natural feel)\n* **For Coding Assistance:** **Both are good**, but ChatGPT might be slightly better for more complex code generation.\n* **For General Purpose Tasks:** **Both are capable**, and it often comes down to personal preference.\n\n**In Conclusion:**\n\nInstead of thinking of one as \"better,\" consider them as different tools with different strengths. The best approach is to **try both** and see which one works best for *your specific needs and preferences*. Both models are constantly being updated and improved, so what is true today may change in the future.\n\nDon't be afraid to experiment! You might find that one is perfect for one task while the other shines in a different scenario. Good luck!\n"
          },
          "metadata": {},
          "execution_count": 55
        }
      ]
    },
    {
      "cell_type": "markdown",
      "source": [
        "# **Taking Input from the user**"
      ],
      "metadata": {
        "id": "V4rBtO252r-J"
      }
    },
    {
      "cell_type": "code",
      "source": [
        "def User_chat(question):\n",
        "  prompt_template = PromptTemplate(\n",
        "    input_variables=[\"question\"],\n",
        "    template=\"You are a helpful assistant. Answer the following question:\\n\\n{question}\"\n",
        ")\n",
        "  chain = LLMChain(llm=llm, prompt=prompt_template)\n",
        "\n",
        "  response = chain.run({\"question\": question})\n",
        "  return response"
      ],
      "metadata": {
        "id": "SSZuReJt2_6l"
      },
      "execution_count": 84,
      "outputs": []
    },
    {
      "cell_type": "code",
      "source": [
        "User_question = input(\"Enter your question: \")\n",
        "chat_response=User_chat(User_question)\n",
        "\n",
        "Markdown(f\"Response:{chat_response}\")"
      ],
      "metadata": {
        "colab": {
          "base_uri": "https://localhost:8080/",
          "height": 756
        },
        "id": "hiAWFRJU16Gx",
        "outputId": "4920b075-bce6-4a43-a58c-2b72f75af319"
      },
      "execution_count": 87,
      "outputs": [
        {
          "name": "stdout",
          "output_type": "stream",
          "text": [
            "Enter your question: what is Artificial intelligence?\n"
          ]
        },
        {
          "output_type": "execute_result",
          "data": {
            "text/plain": [
              "<IPython.core.display.Markdown object>"
            ],
            "text/markdown": "Response:Artificial intelligence (AI) is a broad field of computer science focused on creating intelligent agents, which are systems that can reason, learn, and act autonomously. Essentially, it's about making computers think and behave like humans (or even beyond human capabilities).\n\nHere's a breakdown of key aspects of AI:\n\n**Core Concepts:**\n\n* **Intelligence:** At its heart, AI tries to replicate or simulate human-like intelligence. This includes abilities like:\n    * **Learning:** The ability to acquire new knowledge and skills from data.\n    * **Reasoning:** The ability to draw logical conclusions and solve problems.\n    * **Problem Solving:** The ability to find solutions to complex tasks.\n    * **Perception:** The ability to interpret sensory data (like images, sound, and text).\n    * **Natural Language Processing (NLP):** The ability to understand and generate human language.\n    * **Planning:** The ability to create and execute sequences of actions to achieve goals.\n\n* **Agents:** These are systems (often software) designed to interact with an environment and achieve specific goals. They perceive their surroundings through sensors and act upon them through actuators.\n\n* **Algorithms and Data:** AI relies heavily on algorithms (sets of rules and procedures) and large amounts of data to learn and perform tasks. Machine learning, a subfield of AI, is particularly focused on using data to train algorithms.\n\n**Types of AI:**\n\nAI is often categorized into different types based on its capabilities:\n\n* **Narrow or Weak AI:** This is the most common type of AI we see today. It's designed to perform specific tasks very well (e.g., image recognition, spam filtering, playing chess). It doesn't possess general intelligence or awareness.\n* **General or Strong AI:** This is a hypothetical form of AI that possesses human-level intelligence and can perform any intellectual task that a human being can. We are not yet close to achieving this.\n* **Super AI:** This is a hypothetical form of AI that surpasses human intelligence in all aspects. It's often a topic in science fiction and raises significant ethical concerns.\n\n**Examples of AI in Action:**\n\nAI is becoming increasingly prevalent in our daily lives. Here are some examples:\n\n* **Virtual Assistants:** Siri, Alexa, Google Assistant.\n* **Recommendation Systems:** Netflix, Amazon, Spotify.\n* **Self-Driving Cars:** Autonomous vehicles.\n* **Facial Recognition:** Security systems, social media.\n* **Medical Diagnosis:** Assisting doctors in identifying diseases.\n* **Fraud Detection:** Identifying suspicious transactions.\n* **Chatbots:** Providing customer service.\n\n**In Summary:**\n\nArtificial intelligence is a rapidly evolving field that aims to create intelligent systems capable of learning, reasoning, and acting. It is not a single technology, but rather a broad set of concepts and techniques that are transforming numerous industries and aspects of our lives. While we are still far from achieving human-level general intelligence, the advancements in narrow AI are already having a significant impact.\n"
          },
          "metadata": {},
          "execution_count": 87
        }
      ]
    },
    {
      "cell_type": "code",
      "source": [],
      "metadata": {
        "id": "RAw_8Jz43gmK"
      },
      "execution_count": null,
      "outputs": []
    }
  ]
}